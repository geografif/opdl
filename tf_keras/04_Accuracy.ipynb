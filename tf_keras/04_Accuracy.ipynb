{
 "cells": [
  {
   "cell_type": "code",
   "execution_count": 8,
   "id": "e4c38cd7-f8d6-43dc-8463-5e0cab4f68ff",
   "metadata": {},
   "outputs": [
    {
     "data": {
      "text/plain": [
       "'/data/private/Thesis/May'"
      ]
     },
     "execution_count": 8,
     "metadata": {},
     "output_type": "execute_result"
    }
   ],
   "source": [
    "import matplotlib.pyplot as plt\n",
    "import pandas as pd\n",
    "import geopandas as gpd\n",
    "import rasterio\n",
    "from rasterio.plot import show\n",
    "\n",
    "from osgeo import gdal\n",
    "\n",
    "import os\n",
    "import numpy as np\n",
    "import matplotlib.pyplot as plt\n",
    "\n",
    "import sklearn\n",
    "from sklearn.model_selection import train_test_split\n",
    "from sklearn.metrics import confusion_matrix\n",
    "from sklearn.metrics import multilabel_confusion_matrix\n",
    "from sklearn.metrics import plot_confusion_matrix\n",
    "from sklearn.metrics import jaccard_score\n",
    "from sklearn.metrics import f1_score\n",
    "from sklearn.metrics import accuracy_score\n",
    "from sklearn.metrics import ConfusionMatrixDisplay\n",
    "\n",
    "os.getcwd()"
   ]
  },
  {
   "cell_type": "markdown",
   "id": "38241398-4be4-4fdc-b17f-2272a494fd8a",
   "metadata": {},
   "source": [
    "##### **Crop with gdal** and **Call shapefile**"
   ]
  },
  {
   "cell_type": "code",
   "execution_count": 1,
   "id": "775e7149-4a77-4d03-ab7a-f3950f10bc87",
   "metadata": {},
   "outputs": [
    {
     "name": "stdout",
     "output_type": "stream",
     "text": [
      "<class 'geopandas.geodataframe.GeoDataFrame'>\n"
     ]
    }
   ],
   "source": [
    "val = gpd.read_file(\"Data/04_Validation/Validation_pixelvalues.shp\")\n",
    "print(type(val))"
   ]
  },
  {
   "cell_type": "code",
   "execution_count": 2,
   "id": "047c04af-d98b-40c9-bf39-4ac0cb12d71b",
   "metadata": {},
   "outputs": [
    {
     "data": {
      "text/html": [
       "<div>\n",
       "<style scoped>\n",
       "    .dataframe tbody tr th:only-of-type {\n",
       "        vertical-align: middle;\n",
       "    }\n",
       "\n",
       "    .dataframe tbody tr th {\n",
       "        vertical-align: top;\n",
       "    }\n",
       "\n",
       "    .dataframe thead th {\n",
       "        text-align: right;\n",
       "    }\n",
       "</style>\n",
       "<table border=\"1\" class=\"dataframe\">\n",
       "  <thead>\n",
       "    <tr style=\"text-align: right;\">\n",
       "      <th></th>\n",
       "      <th>Class</th>\n",
       "      <th>s11</th>\n",
       "      <th>s21</th>\n",
       "      <th>slf1</th>\n",
       "      <th>geometry</th>\n",
       "    </tr>\n",
       "  </thead>\n",
       "  <tbody>\n",
       "    <tr>\n",
       "      <th>0</th>\n",
       "      <td>1</td>\n",
       "      <td>1</td>\n",
       "      <td>1</td>\n",
       "      <td>1</td>\n",
       "      <td>POINT (670984.904 140940.473)</td>\n",
       "    </tr>\n",
       "    <tr>\n",
       "      <th>1</th>\n",
       "      <td>1</td>\n",
       "      <td>1</td>\n",
       "      <td>1</td>\n",
       "      <td>1</td>\n",
       "      <td>POINT (671862.628 141505.122)</td>\n",
       "    </tr>\n",
       "    <tr>\n",
       "      <th>2</th>\n",
       "      <td>1</td>\n",
       "      <td>1</td>\n",
       "      <td>1</td>\n",
       "      <td>1</td>\n",
       "      <td>POINT (670778.150 144304.659)</td>\n",
       "    </tr>\n",
       "    <tr>\n",
       "      <th>3</th>\n",
       "      <td>1</td>\n",
       "      <td>0</td>\n",
       "      <td>0</td>\n",
       "      <td>0</td>\n",
       "      <td>POINT (798429.002 177898.933)</td>\n",
       "    </tr>\n",
       "    <tr>\n",
       "      <th>4</th>\n",
       "      <td>1</td>\n",
       "      <td>1</td>\n",
       "      <td>1</td>\n",
       "      <td>1</td>\n",
       "      <td>POINT (782828.189 174076.285)</td>\n",
       "    </tr>\n",
       "  </tbody>\n",
       "</table>\n",
       "</div>"
      ],
      "text/plain": [
       "   Class  s11  s21  slf1                       geometry\n",
       "0      1    1    1     1  POINT (670984.904 140940.473)\n",
       "1      1    1    1     1  POINT (671862.628 141505.122)\n",
       "2      1    1    1     1  POINT (670778.150 144304.659)\n",
       "3      1    0    0     0  POINT (798429.002 177898.933)\n",
       "4      1    1    1     1  POINT (782828.189 174076.285)"
      ]
     },
     "execution_count": 2,
     "metadata": {},
     "output_type": "execute_result"
    }
   ],
   "source": [
    "val.head()"
   ]
  },
  {
   "cell_type": "code",
   "execution_count": 3,
   "id": "c1fac39f-3959-4a38-8a48-21735bf6802e",
   "metadata": {},
   "outputs": [
    {
     "data": {
      "text/html": [
       "<div>\n",
       "<style scoped>\n",
       "    .dataframe tbody tr th:only-of-type {\n",
       "        vertical-align: middle;\n",
       "    }\n",
       "\n",
       "    .dataframe tbody tr th {\n",
       "        vertical-align: top;\n",
       "    }\n",
       "\n",
       "    .dataframe thead th {\n",
       "        text-align: right;\n",
       "    }\n",
       "</style>\n",
       "<table border=\"1\" class=\"dataframe\">\n",
       "  <thead>\n",
       "    <tr style=\"text-align: right;\">\n",
       "      <th></th>\n",
       "      <th>Class</th>\n",
       "      <th>s1</th>\n",
       "      <th>s2</th>\n",
       "      <th>slf</th>\n",
       "      <th>geometry</th>\n",
       "    </tr>\n",
       "  </thead>\n",
       "  <tbody>\n",
       "    <tr>\n",
       "      <th>0</th>\n",
       "      <td>1</td>\n",
       "      <td>1</td>\n",
       "      <td>1</td>\n",
       "      <td>1</td>\n",
       "      <td>POINT (670984.904 140940.473)</td>\n",
       "    </tr>\n",
       "    <tr>\n",
       "      <th>1</th>\n",
       "      <td>1</td>\n",
       "      <td>1</td>\n",
       "      <td>1</td>\n",
       "      <td>1</td>\n",
       "      <td>POINT (671862.628 141505.122)</td>\n",
       "    </tr>\n",
       "    <tr>\n",
       "      <th>2</th>\n",
       "      <td>1</td>\n",
       "      <td>1</td>\n",
       "      <td>1</td>\n",
       "      <td>1</td>\n",
       "      <td>POINT (670778.150 144304.659)</td>\n",
       "    </tr>\n",
       "    <tr>\n",
       "      <th>3</th>\n",
       "      <td>1</td>\n",
       "      <td>0</td>\n",
       "      <td>0</td>\n",
       "      <td>0</td>\n",
       "      <td>POINT (798429.002 177898.933)</td>\n",
       "    </tr>\n",
       "    <tr>\n",
       "      <th>4</th>\n",
       "      <td>1</td>\n",
       "      <td>1</td>\n",
       "      <td>1</td>\n",
       "      <td>1</td>\n",
       "      <td>POINT (782828.189 174076.285)</td>\n",
       "    </tr>\n",
       "  </tbody>\n",
       "</table>\n",
       "</div>"
      ],
      "text/plain": [
       "   Class  s1  s2  slf                       geometry\n",
       "0      1   1   1    1  POINT (670984.904 140940.473)\n",
       "1      1   1   1    1  POINT (671862.628 141505.122)\n",
       "2      1   1   1    1  POINT (670778.150 144304.659)\n",
       "3      1   0   0    0  POINT (798429.002 177898.933)\n",
       "4      1   1   1    1  POINT (782828.189 174076.285)"
      ]
     },
     "execution_count": 3,
     "metadata": {},
     "output_type": "execute_result"
    }
   ],
   "source": [
    "val = val.rename({'s11': 's1', 's21': 's2', 'slf1': 'slf'}, axis='columns')\n",
    "val.head()"
   ]
  },
  {
   "cell_type": "markdown",
   "id": "6f27aee9-eb2a-4da5-86bf-1d74c890d41c",
   "metadata": {},
   "source": [
    "#### **Visualize**"
   ]
  },
  {
   "cell_type": "code",
   "execution_count": 4,
   "id": "d621f435-b8c6-4b57-843d-b429afe9e395",
   "metadata": {
    "tags": []
   },
   "outputs": [
    {
     "name": "stdout",
     "output_type": "stream",
     "text": [
      "epsg:32647\n"
     ]
    },
    {
     "data": {
      "text/plain": [
       "<AxesSubplot: >"
      ]
     },
     "execution_count": 4,
     "metadata": {},
     "output_type": "execute_result"
    },
    {
     "data": {
      "image/png": "[encoded data removed]",
      "text/plain": [
       "<Figure size 640x480 with 1 Axes>"
      ]
     },
     "metadata": {},
     "output_type": "display_data"
    }
   ],
   "source": [
    "#Plot point shapefile\n",
    "print(val.crs)\n",
    "val.plot()"
   ]
  },
  {
   "cell_type": "code",
   "execution_count": 6,
   "id": "c3894c17-5b64-4e89-9c06-392a30ab456a",
   "metadata": {},
   "outputs": [
    {
     "data": {
      "text/plain": [
       "array([1, 1, 1, 1, 1, 0, 0, 0, 0, 0, 0, 0, 0, 0, 0, 0, 0, 0, 0, 0, 0, 0,\n",
       "       0, 0, 0, 0, 0, 0, 0, 0, 0, 0, 0, 0, 0, 0, 0, 0, 0, 0, 0, 1, 1, 1,\n",
       "       1, 1, 1, 1, 1, 1, 1, 1, 1, 1, 1, 1, 1, 1, 1, 1, 1, 0, 0, 0, 0, 1,\n",
       "       1, 1, 1, 1, 1, 1, 1, 1, 1, 0, 0, 0, 0, 0, 0, 0, 0, 0, 0, 0, 0, 0,\n",
       "       0, 0, 1, 1, 1, 1, 1, 1, 1, 1, 1, 1, 1, 1, 1, 1, 1, 1, 1, 0, 1, 1,\n",
       "       1, 1, 1, 0, 0, 0, 1, 1, 0, 0, 1, 1, 1, 1, 1, 1, 0, 0, 1, 1, 1, 1,\n",
       "       1, 1, 1, 1, 1, 1, 0, 0, 1, 0, 0, 0, 1, 1, 1, 0, 1, 1, 1, 1, 1, 0,\n",
       "       0, 0, 1, 1, 1, 1, 1, 1, 0, 0, 0, 1, 1, 0, 0, 0, 1, 1, 0, 0, 0, 0,\n",
       "       1, 1, 1, 1, 1, 1, 1, 0, 1])"
      ]
     },
     "execution_count": 6,
     "metadata": {},
     "output_type": "execute_result"
    }
   ],
   "source": [
    "vale = val['Class'].to_numpy()\n",
    "vale"
   ]
  },
  {
   "cell_type": "code",
   "execution_count": 5,
   "id": "e7aba802-0b84-46fc-8456-cee6f1ba32bb",
   "metadata": {},
   "outputs": [],
   "source": [
    "s1 = val['s1'].to_numpy()\n",
    "s2 = val['s2'].to_numpy()\n",
    "slf = val['slf'].to_numpy()"
   ]
  },
  {
   "cell_type": "markdown",
   "id": "351ee3d4-e70a-457d-90ee-bc5e34e9a334",
   "metadata": {},
   "source": [
    "#### **Accuracy assessment**"
   ]
  },
  {
   "cell_type": "markdown",
   "id": "e621d611-36f0-42d5-be35-1869afad57a6",
   "metadata": {},
   "source": [
    "##### **S1**"
   ]
  },
  {
   "cell_type": "code",
   "execution_count": 9,
   "id": "804e13a7-ac14-4e21-945d-0a91793f0977",
   "metadata": {},
   "outputs": [
    {
     "name": "stdout",
     "output_type": "stream",
     "text": [
      "f1:  0.9313725490196079\n",
      "accuracy:  0.9243243243243243\n",
      "     NOP  OP\n",
      "NOP   76   7\n",
      "OP     7  95\n",
      "Train report               precision    recall  f1-score   support\n",
      "\n",
      "           0       0.92      0.92      0.92        83\n",
      "           1       0.93      0.93      0.93       102\n",
      "\n",
      "    accuracy                           0.92       185\n",
      "   macro avg       0.92      0.92      0.92       185\n",
      "weighted avg       0.92      0.92      0.92       185\n",
      "\n"
     ]
    }
   ],
   "source": [
    "f1 = f1_score(vale, s1)\n",
    "accuracy = accuracy_score(vale, s1)\n",
    "print('f1: ',  f1)\n",
    "print('accuracy: ',  accuracy)\n",
    "\n",
    "cfm = confusion_matrix(vale, s1)\n",
    "\n",
    "df = pd.DataFrame(cfm, columns=['NOP', 'OP'], index=['NOP', 'OP'])\n",
    "print(df)\n",
    "\n",
    "from sklearn.metrics import classification_report\n",
    "print('Train report', classification_report(vale, s1))"
   ]
  },
  {
   "cell_type": "code",
   "execution_count": 10,
   "id": "3813fecb-1590-4280-abb5-3f5410153c21",
   "metadata": {},
   "outputs": [
    {
     "name": "stdout",
     "output_type": "stream",
     "text": [
      "f1:  0.8558139534883722\n",
      "accuracy:  0.8324324324324325\n",
      "     NOP  OP\n",
      "NOP   62  21\n",
      "OP    10  92\n",
      "Train report               precision    recall  f1-score   support\n",
      "\n",
      "           0       0.86      0.75      0.80        83\n",
      "           1       0.81      0.90      0.86       102\n",
      "\n",
      "    accuracy                           0.83       185\n",
      "   macro avg       0.84      0.82      0.83       185\n",
      "weighted avg       0.84      0.83      0.83       185\n",
      "\n"
     ]
    }
   ],
   "source": [
    "f1 = f1_score(vale, s2)\n",
    "accuracy = accuracy_score(vale, s2)\n",
    "print('f1: ',  f1)\n",
    "print('accuracy: ',  accuracy)\n",
    "\n",
    "cfm = confusion_matrix(vale, s2)\n",
    "\n",
    "df = pd.DataFrame(cfm, columns=['NOP', 'OP'], index=['NOP', 'OP'])\n",
    "print(df)\n",
    "\n",
    "from sklearn.metrics import classification_report\n",
    "print('Train report', classification_report(vale, s2))"
   ]
  },
  {
   "cell_type": "code",
   "execution_count": 11,
   "id": "99a895bc-01d9-4166-8b99-11fc1eee047e",
   "metadata": {},
   "outputs": [
    {
     "name": "stdout",
     "output_type": "stream",
     "text": [
      "f1:  0.9261083743842364\n",
      "accuracy:  0.918918918918919\n",
      "     NOP  OP\n",
      "NOP   76   7\n",
      "OP     8  94\n",
      "Train report               precision    recall  f1-score   support\n",
      "\n",
      "           0       0.90      0.92      0.91        83\n",
      "           1       0.93      0.92      0.93       102\n",
      "\n",
      "    accuracy                           0.92       185\n",
      "   macro avg       0.92      0.92      0.92       185\n",
      "weighted avg       0.92      0.92      0.92       185\n",
      "\n"
     ]
    }
   ],
   "source": [
    "f1 = f1_score(vale, slf)\n",
    "accuracy = accuracy_score(vale, slf)\n",
    "print('f1: ',  f1)\n",
    "print('accuracy: ',  accuracy)\n",
    "\n",
    "cfm = confusion_matrix(vale, slf)\n",
    "\n",
    "df = pd.DataFrame(cfm, columns=['NOP', 'OP'], index=['NOP', 'OP'])\n",
    "print(df)\n",
    "\n",
    "from sklearn.metrics import classification_report\n",
    "print('Train report', classification_report(vale, slf))"
   ]
  }
 ],
 "metadata": {
  "kernelspec": {
   "display_name": "Python",
   "language": "python",
   "name": "python3"
  },
  "language_info": {
   "codemirror_mode": {
    "name": "ipython",
    "version": 3
   },
   "file_extension": ".py",
   "mimetype": "text/x-python",
   "name": "python",
   "nbconvert_exporter": "python",
   "pygments_lexer": "ipython3",
   "version": "3.8.10"
  }
 },
 "nbformat": 4,
 "nbformat_minor": 5
}
