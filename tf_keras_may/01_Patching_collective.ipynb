{
 "cells": [
  {
   "cell_type": "code",
   "execution_count": 1,
   "id": "e4c92e2e-67f6-4d3d-a32f-c1c28f868e8c",
   "metadata": {},
   "outputs": [],
   "source": [
    "import os\n",
    "import numpy as np\n",
    "import glob\n",
    "from matplotlib import pyplot as plt"
   ]
  },
  {
   "cell_type": "code",
   "execution_count": 2,
   "id": "fce428f7-facf-40c3-95a6-0c2e00d41cb9",
   "metadata": {},
   "outputs": [],
   "source": [
    "import rasterio\n",
    "import earthpy.plot as ep\n",
    "from patchify import patchify\n",
    "import tifffile as tifffile\n",
    "import random"
   ]
  },
  {
   "cell_type": "code",
   "execution_count": 3,
   "id": "6992de8a-5538-425e-8dac-5714ca91dcf2",
   "metadata": {},
   "outputs": [
    {
     "data": {
      "text/plain": [
       "'/data/private/Thesis/May'"
      ]
     },
     "execution_count": 3,
     "metadata": {},
     "output_type": "execute_result"
    }
   ],
   "source": [
    "# check working directory\n",
    "os.getcwd()"
   ]
  },
  {
   "cell_type": "markdown",
   "id": "410b7c82-74d4-40d3-a19a-b4576c10461e",
   "metadata": {},
   "source": [
    "### **Patching Single Datasets**"
   ]
  },
  {
   "cell_type": "code",
   "execution_count": 4,
   "id": "08135543-b200-4d3a-a48f-ae8c13ace0be",
   "metadata": {},
   "outputs": [
    {
     "name": "stdout",
     "output_type": "stream",
     "text": [
      "(1, 5903, 6055)\n"
     ]
    }
   ],
   "source": [
    "# read val image\n",
    "\n",
    "with rasterio.open(\"Data/02_Tile/label_bin_gaveau/label_bin_gaveau11.tif\") as src:\n",
    "    lbl = src.read()\n",
    "\n",
    "print(lbl.shape)"
   ]
  },
  {
   "cell_type": "code",
   "execution_count": 5,
   "id": "e2ea664b-3550-4b5e-8192-8fa356a4f6f5",
   "metadata": {},
   "outputs": [],
   "source": [
    "lbl = np.transpose(lbl, (1,2,0))"
   ]
  },
  {
   "cell_type": "code",
   "execution_count": 6,
   "id": "c3a0661a-07c4-471a-8e01-19cf6f202415",
   "metadata": {},
   "outputs": [
    {
     "name": "stdout",
     "output_type": "stream",
     "text": [
      "1\n"
     ]
    }
   ],
   "source": [
    "PATCH_SIZE = 256\n",
    "N_BANDS_LBL = lbl.shape[-1]\n",
    "\n",
    "print(N_BANDS_LBL)"
   ]
  },
  {
   "cell_type": "code",
   "execution_count": 7,
   "id": "a273981b-8da1-4b1a-aea6-cb0ee7930722",
   "metadata": {},
   "outputs": [],
   "source": [
    "patches_msk = patchify(lbl, (PATCH_SIZE, PATCH_SIZE, N_BANDS_LBL), step=PATCH_SIZE)\n",
    "\n",
    "if not os.path.exists('Valmsk'):\n",
    "    os.makedirs('Valmsk')\n",
    "\n",
    "for i in range(patches_msk.shape[0]):\n",
    "    for j in range(patches_msk.shape[1]):\n",
    "        \n",
    "        single_patch_msk = patches_msk[i,j,:,:]\n",
    "        tifffile.imwrite('Valmsk/' + 'valmsk_' + str(i) + '_' + str(j) + \".tif\", single_patch_msk)"
   ]
  },
  {
   "cell_type": "code",
   "execution_count": 8,
   "id": "63d20ec5-15c0-42b9-bc2a-aea3a98bdf9b",
   "metadata": {},
   "outputs": [
    {
     "name": "stdout",
     "output_type": "stream",
     "text": [
      "529\n"
     ]
    }
   ],
   "source": [
    "msk_patch = sorted(glob.glob('Valmsk/*.tif'))\n",
    "\n",
    "print(len(msk_patch))"
   ]
  },
  {
   "cell_type": "code",
   "execution_count": 9,
   "id": "3e99e3eb-23cd-43e9-974d-87ea642c1fc2",
   "metadata": {},
   "outputs": [],
   "source": [
    "y = np.zeros((len(msk_patch), PATCH_SIZE, PATCH_SIZE, N_BANDS_LBL))\n",
    "\n",
    "for i, (msk) in enumerate(zip(msk_patch)):\n",
    "    msk = tifffile.imread(msk)\n",
    "    np_msk = np.array(msk)\n",
    "    y[i] = np_msk"
   ]
  },
  {
   "cell_type": "code",
   "execution_count": 10,
   "id": "ddf028e3-53c9-4dc5-8386-587b8c4d47e6",
   "metadata": {},
   "outputs": [
    {
     "name": "stdout",
     "output_type": "stream",
     "text": [
      "(529, 256, 256, 1)\n"
     ]
    }
   ],
   "source": [
    "print(y.shape)"
   ]
  },
  {
   "cell_type": "code",
   "execution_count": 11,
   "id": "d0310d9a-3ef0-4bea-8446-bba1667838db",
   "metadata": {},
   "outputs": [],
   "source": [
    "if not os.path.exists('Data/03_Patch/val'):\n",
    "    os.makedirs('Data/03_Patch/val')\n",
    "\n",
    "np.save('Data/03_Patch/val/ygaveau.npy', y)"
   ]
  },
  {
   "cell_type": "markdown",
   "id": "badcf16b-4dd3-46ff-b9c6-ef29bbfc7172",
   "metadata": {},
   "source": [
    "### **Patching Validation Datasets**"
   ]
  },
  {
   "cell_type": "code",
   "execution_count": 4,
   "id": "e2ab2671-eeb6-4a75-bf4a-db28e22993ab",
   "metadata": {},
   "outputs": [
    {
     "name": "stdout",
     "output_type": "stream",
     "text": [
      "(2, 5903, 6055)\n",
      "(4, 5903, 6055)\n",
      "(1, 5903, 6055)\n"
     ]
    }
   ],
   "source": [
    "# read val image\n",
    "\n",
    "with rasterio.open(\"Data/02_Tile/s2/s211.tif\") as src:\n",
    "    s2 = src.read()\n",
    "with rasterio.open(\"Data/02_Tile/s1/s111.tif\") as src:\n",
    "    s1 = src.read()\n",
    "with rasterio.open(\"Data/02_Tile/label_bin_descals/label_bin_descals11.tif\") as src:\n",
    "    lbl = src.read()\n",
    "\n",
    "print(s1.shape)\n",
    "print(s2.shape)\n",
    "print(lbl.shape)"
   ]
  },
  {
   "cell_type": "code",
   "execution_count": 5,
   "id": "23d5bda8-bd26-4c8d-90ab-cbb5d10e2fce",
   "metadata": {},
   "outputs": [
    {
     "name": "stdout",
     "output_type": "stream",
     "text": [
      "(5903, 6055, 2)\n",
      "(5903, 6055, 4)\n",
      "(5903, 6055, 1)\n"
     ]
    }
   ],
   "source": [
    "s1 = np.transpose(s1, (1,2,0))\n",
    "s2 = np.transpose(s2, (1,2,0))\n",
    "lbl = np.transpose(lbl, (1,2,0))\n",
    "\n",
    "print(s1.shape)\n",
    "print(s2.shape)\n",
    "print(lbl.shape)"
   ]
  },
  {
   "cell_type": "code",
   "execution_count": 6,
   "id": "223b9314-a28c-453f-84d3-10faa242155a",
   "metadata": {},
   "outputs": [
    {
     "name": "stdout",
     "output_type": "stream",
     "text": [
      "2\n",
      "4\n",
      "1\n"
     ]
    }
   ],
   "source": [
    "# define criterias\n",
    "PATCH_SIZE = 256\n",
    "N_BANDS_S1 = s1.shape[-1]\n",
    "N_BANDS_S2 = s2.shape[-1]\n",
    "N_BANDS_LBL = lbl.shape[-1]\n",
    "\n",
    "print(N_BANDS_S1)\n",
    "print(N_BANDS_S2)\n",
    "print(N_BANDS_LBL)"
   ]
  },
  {
   "cell_type": "code",
   "execution_count": 7,
   "id": "7cd158d9-fc16-4337-9a1f-429a73d1b02a",
   "metadata": {
    "tags": []
   },
   "outputs": [
    {
     "ename": "KeyboardInterrupt",
     "evalue": "",
     "output_type": "error",
     "traceback": [
      "\u001b[0;31m---------------------------------------------------------------------------\u001b[0m",
      "\u001b[0;31mKeyboardInterrupt\u001b[0m                         Traceback (most recent call last)",
      "Cell \u001b[0;32mIn [7], line 11\u001b[0m\n\u001b[1;32m      8\u001b[0m     \u001b[38;5;28;01mfor\u001b[39;00m j \u001b[38;5;129;01min\u001b[39;00m \u001b[38;5;28mrange\u001b[39m(patches_img1\u001b[38;5;241m.\u001b[39mshape[\u001b[38;5;241m1\u001b[39m]):\n\u001b[1;32m     10\u001b[0m         single_patch_img1 \u001b[38;5;241m=\u001b[39m patches_img1[i,j,:,:]\n\u001b[0;32m---> 11\u001b[0m         tifffile\u001b[38;5;241m.\u001b[39mimwrite(\u001b[38;5;124m'\u001b[39m\u001b[38;5;124mVals1/\u001b[39m\u001b[38;5;124m'\u001b[39m \u001b[38;5;241m+\u001b[39m \u001b[38;5;124m'\u001b[39m\u001b[38;5;124mvals1_\u001b[39m\u001b[38;5;124m'\u001b[39m \u001b[38;5;241m+\u001b[39m \u001b[38;5;28mstr\u001b[39m(i) \u001b[38;5;241m+\u001b[39m \u001b[38;5;124m'\u001b[39m\u001b[38;5;124m_\u001b[39m\u001b[38;5;124m'\u001b[39m \u001b[38;5;241m+\u001b[39m \u001b[38;5;28mstr\u001b[39m(j) \u001b[38;5;241m+\u001b[39m \u001b[38;5;124m\"\u001b[39m\u001b[38;5;124m.tif\u001b[39m\u001b[38;5;124m\"\u001b[39m, single_patch_img1)\n\u001b[1;32m     13\u001b[0m \u001b[38;5;66;03m# Create patch for validation\u001b[39;00m\n\u001b[1;32m     14\u001b[0m patches_img2 \u001b[38;5;241m=\u001b[39m patchify(s2, (PATCH_SIZE, PATCH_SIZE, N_BANDS_S2), step\u001b[38;5;241m=\u001b[39mPATCH_SIZE)\n",
      "File \u001b[0;32m/usr/local/lib/python3.8/dist-packages/tifffile/tifffile.py:1146\u001b[0m, in \u001b[0;36mimwrite\u001b[0;34m(file, data, bigtiff, byteorder, imagej, ome, shaped, append, shape, dtype, photometric, planarconfig, extrasamples, volumetric, tile, rowsperstrip, bitspersample, compression, compressionargs, predictor, subsampling, jpegtables, colormap, description, datetime, resolution, resolutionunit, subfiletype, software, metadata, extratags, contiguous, truncate, align, maxworkers, returnoffset)\u001b[0m\n\u001b[1;32m   1138\u001b[0m \u001b[38;5;28;01mif\u001b[39;00m bigtiff \u001b[38;5;129;01mis\u001b[39;00m \u001b[38;5;28;01mNone\u001b[39;00m:\n\u001b[1;32m   1139\u001b[0m     bigtiff \u001b[38;5;241m=\u001b[39m (\n\u001b[1;32m   1140\u001b[0m         datasize \u001b[38;5;241m>\u001b[39m \u001b[38;5;241m2\u001b[39m\u001b[38;5;241m*\u001b[39m\u001b[38;5;241m*\u001b[39m\u001b[38;5;241m32\u001b[39m \u001b[38;5;241m-\u001b[39m \u001b[38;5;241m2\u001b[39m\u001b[38;5;241m*\u001b[39m\u001b[38;5;241m*\u001b[39m\u001b[38;5;241m25\u001b[39m\n\u001b[1;32m   1141\u001b[0m         \u001b[38;5;129;01mand\u001b[39;00m \u001b[38;5;129;01mnot\u001b[39;00m imagej\n\u001b[1;32m   1142\u001b[0m         \u001b[38;5;129;01mand\u001b[39;00m \u001b[38;5;129;01mnot\u001b[39;00m truncate\n\u001b[1;32m   1143\u001b[0m         \u001b[38;5;129;01mand\u001b[39;00m compression \u001b[38;5;129;01min\u001b[39;00m (\u001b[38;5;28;01mNone\u001b[39;00m, \u001b[38;5;241m0\u001b[39m, \u001b[38;5;241m1\u001b[39m, \u001b[38;5;124m'\u001b[39m\u001b[38;5;124mNONE\u001b[39m\u001b[38;5;124m'\u001b[39m, \u001b[38;5;124m'\u001b[39m\u001b[38;5;124mnone\u001b[39m\u001b[38;5;124m'\u001b[39m)\n\u001b[1;32m   1144\u001b[0m     )\n\u001b[0;32m-> 1146\u001b[0m \u001b[38;5;28;01mwith\u001b[39;00m \u001b[43mTiffWriter\u001b[49m\u001b[43m(\u001b[49m\n\u001b[1;32m   1147\u001b[0m \u001b[43m    \u001b[49m\u001b[43mfile\u001b[49m\u001b[43m,\u001b[49m\n\u001b[1;32m   1148\u001b[0m \u001b[43m    \u001b[49m\u001b[43mbigtiff\u001b[49m\u001b[38;5;241;43m=\u001b[39;49m\u001b[43mbigtiff\u001b[49m\u001b[43m,\u001b[49m\n\u001b[1;32m   1149\u001b[0m \u001b[43m    \u001b[49m\u001b[43mbyteorder\u001b[49m\u001b[38;5;241;43m=\u001b[39;49m\u001b[43mbyteorder\u001b[49m\u001b[43m,\u001b[49m\n\u001b[1;32m   1150\u001b[0m \u001b[43m    \u001b[49m\u001b[43mappend\u001b[49m\u001b[38;5;241;43m=\u001b[39;49m\u001b[43mappend\u001b[49m\u001b[43m,\u001b[49m\n\u001b[1;32m   1151\u001b[0m \u001b[43m    \u001b[49m\u001b[43mimagej\u001b[49m\u001b[38;5;241;43m=\u001b[39;49m\u001b[43mimagej\u001b[49m\u001b[43m,\u001b[49m\n\u001b[1;32m   1152\u001b[0m \u001b[43m    \u001b[49m\u001b[43mome\u001b[49m\u001b[38;5;241;43m=\u001b[39;49m\u001b[43mome\u001b[49m\u001b[43m,\u001b[49m\n\u001b[1;32m   1153\u001b[0m \u001b[43m    \u001b[49m\u001b[43mshaped\u001b[49m\u001b[38;5;241;43m=\u001b[39;49m\u001b[43mshaped\u001b[49m\u001b[43m,\u001b[49m\n\u001b[1;32m   1154\u001b[0m \u001b[43m\u001b[49m\u001b[43m)\u001b[49m \u001b[38;5;28;01mas\u001b[39;00m tif:\n\u001b[1;32m   1155\u001b[0m     result \u001b[38;5;241m=\u001b[39m tif\u001b[38;5;241m.\u001b[39mwrite(\n\u001b[1;32m   1156\u001b[0m         data,\n\u001b[1;32m   1157\u001b[0m         shape\u001b[38;5;241m=\u001b[39mshape,\n\u001b[0;32m   (...)\u001b[0m\n\u001b[1;32m   1184\u001b[0m         returnoffset\u001b[38;5;241m=\u001b[39mreturnoffset,\n\u001b[1;32m   1185\u001b[0m     )\n\u001b[1;32m   1186\u001b[0m \u001b[38;5;28;01mreturn\u001b[39;00m result\n",
      "File \u001b[0;32m/usr/local/lib/python3.8/dist-packages/tifffile/tifffile.py:1454\u001b[0m, in \u001b[0;36mTiffWriter.__init__\u001b[0;34m(self, file, bigtiff, byteorder, append, imagej, ome, shaped)\u001b[0m\n\u001b[1;32m   1452\u001b[0m     \u001b[38;5;28mself\u001b[39m\u001b[38;5;241m.\u001b[39m_fh\u001b[38;5;241m.\u001b[39mseek(\u001b[38;5;241m0\u001b[39m, os\u001b[38;5;241m.\u001b[39mSEEK_END)\n\u001b[1;32m   1453\u001b[0m \u001b[38;5;28;01melse\u001b[39;00m:\n\u001b[0;32m-> 1454\u001b[0m     \u001b[38;5;28mself\u001b[39m\u001b[38;5;241m.\u001b[39m_fh \u001b[38;5;241m=\u001b[39m \u001b[43mFileHandle\u001b[49m\u001b[43m(\u001b[49m\u001b[43mfile\u001b[49m\u001b[43m,\u001b[49m\u001b[43m \u001b[49m\u001b[43mmode\u001b[49m\u001b[38;5;241;43m=\u001b[39;49m\u001b[38;5;124;43m'\u001b[39;49m\u001b[38;5;124;43mwb\u001b[39;49m\u001b[38;5;124;43m'\u001b[39;49m\u001b[43m,\u001b[49m\u001b[43m \u001b[49m\u001b[43msize\u001b[49m\u001b[38;5;241;43m=\u001b[39;49m\u001b[38;5;241;43m0\u001b[39;49m\u001b[43m)\u001b[49m\n\u001b[1;32m   1455\u001b[0m     \u001b[38;5;28mself\u001b[39m\u001b[38;5;241m.\u001b[39m_fh\u001b[38;5;241m.\u001b[39mwrite({\u001b[38;5;124m'\u001b[39m\u001b[38;5;124m<\u001b[39m\u001b[38;5;124m'\u001b[39m: \u001b[38;5;124mb\u001b[39m\u001b[38;5;124m'\u001b[39m\u001b[38;5;124mII\u001b[39m\u001b[38;5;124m'\u001b[39m, \u001b[38;5;124m'\u001b[39m\u001b[38;5;124m>\u001b[39m\u001b[38;5;124m'\u001b[39m: \u001b[38;5;124mb\u001b[39m\u001b[38;5;124m'\u001b[39m\u001b[38;5;124mMM\u001b[39m\u001b[38;5;124m'\u001b[39m}[byteorder])\n\u001b[1;32m   1456\u001b[0m     \u001b[38;5;28;01mif\u001b[39;00m bigtiff:\n",
      "File \u001b[0;32m/usr/local/lib/python3.8/dist-packages/tifffile/tifffile.py:13023\u001b[0m, in \u001b[0;36mFileHandle.__init__\u001b[0;34m(self, file, mode, name, offset, size)\u001b[0m\n\u001b[1;32m  13021\u001b[0m \u001b[38;5;28mself\u001b[39m\u001b[38;5;241m.\u001b[39m_close \u001b[38;5;241m=\u001b[39m \u001b[38;5;28;01mTrue\u001b[39;00m\n\u001b[1;32m  13022\u001b[0m \u001b[38;5;28mself\u001b[39m\u001b[38;5;241m.\u001b[39m_lock \u001b[38;5;241m=\u001b[39m NullContext()\n\u001b[0;32m> 13023\u001b[0m \u001b[38;5;28;43mself\u001b[39;49m\u001b[38;5;241;43m.\u001b[39;49m\u001b[43mopen\u001b[49m\u001b[43m(\u001b[49m\u001b[43m)\u001b[49m\n\u001b[1;32m  13024\u001b[0m \u001b[38;5;28;01massert\u001b[39;00m \u001b[38;5;28mself\u001b[39m\u001b[38;5;241m.\u001b[39m_fh \u001b[38;5;129;01mis\u001b[39;00m \u001b[38;5;129;01mnot\u001b[39;00m \u001b[38;5;28;01mNone\u001b[39;00m\n",
      "File \u001b[0;32m/usr/local/lib/python3.8/dist-packages/tifffile/tifffile.py:13038\u001b[0m, in \u001b[0;36mFileHandle.open\u001b[0;34m(self)\u001b[0m\n\u001b[1;32m  13036\u001b[0m \u001b[38;5;28mself\u001b[39m\u001b[38;5;241m.\u001b[39m_file \u001b[38;5;241m=\u001b[39m os\u001b[38;5;241m.\u001b[39mpath\u001b[38;5;241m.\u001b[39mrealpath(\u001b[38;5;28mself\u001b[39m\u001b[38;5;241m.\u001b[39m_file)\n\u001b[1;32m  13037\u001b[0m \u001b[38;5;28mself\u001b[39m\u001b[38;5;241m.\u001b[39m_dir, \u001b[38;5;28mself\u001b[39m\u001b[38;5;241m.\u001b[39m_name \u001b[38;5;241m=\u001b[39m os\u001b[38;5;241m.\u001b[39mpath\u001b[38;5;241m.\u001b[39msplit(\u001b[38;5;28mself\u001b[39m\u001b[38;5;241m.\u001b[39m_file)\n\u001b[0;32m> 13038\u001b[0m \u001b[38;5;28mself\u001b[39m\u001b[38;5;241m.\u001b[39m_fh \u001b[38;5;241m=\u001b[39m \u001b[38;5;28;43mopen\u001b[39;49m\u001b[43m(\u001b[49m\u001b[38;5;28;43mself\u001b[39;49m\u001b[38;5;241;43m.\u001b[39;49m\u001b[43m_file\u001b[49m\u001b[43m,\u001b[49m\u001b[43m \u001b[49m\u001b[38;5;28;43mself\u001b[39;49m\u001b[38;5;241;43m.\u001b[39;49m\u001b[43m_mode\u001b[49m\u001b[43m)\u001b[49m  \u001b[38;5;66;03m# type: ignore\u001b[39;00m\n\u001b[1;32m  13039\u001b[0m \u001b[38;5;28mself\u001b[39m\u001b[38;5;241m.\u001b[39m_close \u001b[38;5;241m=\u001b[39m \u001b[38;5;28;01mTrue\u001b[39;00m\n\u001b[1;32m  13040\u001b[0m \u001b[38;5;28;01mif\u001b[39;00m \u001b[38;5;28mself\u001b[39m\u001b[38;5;241m.\u001b[39m_offset \u001b[38;5;241m<\u001b[39m \u001b[38;5;241m0\u001b[39m:\n",
      "\u001b[0;31mKeyboardInterrupt\u001b[0m: "
     ]
    }
   ],
   "source": [
    "# Create patch for validation\n",
    "patches_img1 = patchify(s1, (PATCH_SIZE, PATCH_SIZE, N_BANDS_S1), step=PATCH_SIZE)\n",
    "\n",
    "if not os.path.exists('Vals1'):\n",
    "    os.makedirs('Vals1')\n",
    "\n",
    "for i in range(patches_img1.shape[0]):\n",
    "    for j in range(patches_img1.shape[1]):\n",
    "        \n",
    "        single_patch_img1 = patches_img1[i,j,:,:]\n",
    "        tifffile.imwrite('Vals1/' + 'vals1_' + str(i) + '_' + str(j) + \".tif\", single_patch_img1)\n",
    "\n",
    "# Create patch for validation\n",
    "patches_img2 = patchify(s2, (PATCH_SIZE, PATCH_SIZE, N_BANDS_S2), step=PATCH_SIZE)\n",
    "\n",
    "if not os.path.exists('Vals2'):\n",
    "    os.makedirs('Vals2')\n",
    "\n",
    "for i in range(patches_img2.shape[0]):\n",
    "    for j in range(patches_img2.shape[1]):\n",
    "        \n",
    "        single_patch_img2 = patches_img2[i,j,:,:]\n",
    "        tifffile.imwrite('Vals2/' + 'vals2_' + str(i) + '_' + str(j) + \".tif\", single_patch_img2)\n",
    "\n",
    "# Create patch for validation\n",
    "patches_msk = patchify(lbl, (PATCH_SIZE, PATCH_SIZE, N_BANDS_LBL), step=PATCH_SIZE)\n",
    "\n",
    "if not os.path.exists('Valmsk'):\n",
    "    os.makedirs('Valmsk')\n",
    "\n",
    "for i in range(patches_msk.shape[0]):\n",
    "    for j in range(patches_msk.shape[1]):\n",
    "        \n",
    "        single_patch_msk = patches_msk[i,j,:,:]\n",
    "        tifffile.imwrite('Valmsk/' + 'valmsk_' + str(i) + '_' + str(j) + \".tif\", single_patch_msk)"
   ]
  },
  {
   "cell_type": "code",
   "execution_count": 14,
   "id": "62590600-7c17-43fa-8168-43c01a8e4d4e",
   "metadata": {},
   "outputs": [
    {
     "name": "stdout",
     "output_type": "stream",
     "text": [
      "529\n",
      "529\n",
      "529\n"
     ]
    }
   ],
   "source": [
    "# sort and store in numpy format\n",
    "img_patch1 = sorted(glob.glob('Vals1/*.tif'))\n",
    "img_patch2 = sorted(glob.glob('Vals2/*.tif'))\n",
    "msk_patch = sorted(glob.glob('Valmsk/*.tif'))\n",
    "\n",
    "print(len(img_patch1))\n",
    "print(len(img_patch2))\n",
    "print(len(msk_patch))"
   ]
  },
  {
   "cell_type": "code",
   "execution_count": 15,
   "id": "23f07f2d-b737-45f0-9cbc-7b08055a8e2b",
   "metadata": {},
   "outputs": [],
   "source": [
    "x1 = np.zeros((len(img_patch1), PATCH_SIZE, PATCH_SIZE, N_BANDS_S1))\n",
    "\n",
    "for i, (img1) in enumerate(zip(img_patch1)):\n",
    "    img1 = tifffile.imread(img1)\n",
    "    np_img1 = np.array(img1)\n",
    "    x1[i] = np_img1\n",
    "\n",
    "x2 = np.zeros((len(img_patch2), PATCH_SIZE, PATCH_SIZE, N_BANDS_S2))\n",
    "\n",
    "for i, (img2) in enumerate(zip(img_patch2)):\n",
    "    img2 = tifffile.imread(img2)\n",
    "    np_img2 = np.array(img2)\n",
    "    x2[i] = np_img2\n",
    "    \n",
    "y = np.zeros((len(msk_patch), PATCH_SIZE, PATCH_SIZE, N_BANDS_LBL))\n",
    "\n",
    "for i, (msk) in enumerate(zip(msk_patch)):\n",
    "    msk = tifffile.imread(msk)\n",
    "    np_msk = np.array(msk)\n",
    "    y[i] = np_msk"
   ]
  },
  {
   "cell_type": "code",
   "execution_count": 17,
   "id": "efda6104-8d54-4944-b87a-6aafd12c2029",
   "metadata": {},
   "outputs": [],
   "source": [
    "if not os.path.exists('Data/03_Patch/val'):\n",
    "    os.makedirs('Data/03_Patch/val')\n",
    "\n",
    "np.save('Data/03_Patch/val/x1.npy', x1)\n",
    "np.save('Data/03_Patch/val/x2.npy', x2)\n",
    "np.save('Data/03_Patch/val/y.npy', y)"
   ]
  },
  {
   "cell_type": "markdown",
   "id": "407dde4c-d172-46d1-bb5c-353b40ada455",
   "metadata": {},
   "source": [
    "### **Patching Training Datasets**"
   ]
  },
  {
   "cell_type": "code",
   "execution_count": 8,
   "id": "7fc0dace-23c3-4e17-b578-275de4116515",
   "metadata": {},
   "outputs": [
    {
     "name": "stdout",
     "output_type": "stream",
     "text": [
      "(2, 5903, 6055)\n",
      "(2, 5903, 6055)\n",
      "(4, 5903, 6055)\n",
      "(4, 5903, 6055)\n",
      "(1, 5903, 6055)\n",
      "(1, 5903, 6055)\n"
     ]
    }
   ],
   "source": [
    "# read train image\n",
    "with rasterio.open(\"Data/02_Tile/s1/s100.tif\") as src:\n",
    "    s100 = src.read()\n",
    "with rasterio.open(\"Data/02_Tile/s1/s101.tif\") as src:\n",
    "    s101 = src.read()\n",
    "\n",
    "# read train image\n",
    "with rasterio.open(\"Data/02_Tile/s2/s200.tif\") as src:\n",
    "    s200 = src.read()\n",
    "with rasterio.open(\"Data/02_Tile/s2/s201.tif\") as src:\n",
    "    s201 = src.read()\n",
    "\n",
    "# read train mask\n",
    "with rasterio.open(\"Data/02_Tile/label_bin_descals/label_bin_descals00.tif\") as src:\n",
    "    lbl00 = src.read()\n",
    "with rasterio.open(\"Data/02_Tile/label_bin_descals/label_bin_descals01.tif\") as src:\n",
    "    lbl01 = src.read()\n",
    "\n",
    "print(s100.shape)\n",
    "print(s101.shape)\n",
    "print(s201.shape)\n",
    "print(s201.shape)\n",
    "print(lbl00.shape)\n",
    "print(lbl01.shape)"
   ]
  },
  {
   "cell_type": "code",
   "execution_count": 9,
   "id": "febce5bf-79a4-4037-93ca-35105db992f9",
   "metadata": {},
   "outputs": [
    {
     "name": "stdout",
     "output_type": "stream",
     "text": [
      "(5903, 6055, 2)\n",
      "(5903, 6055, 2)\n",
      "(5903, 6055, 4)\n",
      "(5903, 6055, 4)\n",
      "(5903, 6055, 1)\n",
      "(5903, 6055, 1)\n"
     ]
    }
   ],
   "source": [
    "# change order of the array, so the n channel is at axis -1 (last axis)\n",
    "s100 = np.transpose(s100, (1,2,0))\n",
    "s101 = np.transpose(s101, (1,2,0))\n",
    "s200 = np.transpose(s200, (1,2,0))\n",
    "s201 = np.transpose(s201, (1,2,0))\n",
    "lbl00 = np.transpose(lbl00, (1,2,0))\n",
    "lbl01 = np.transpose(lbl01, (1,2,0))\n",
    "\n",
    "print(s100.shape)\n",
    "print(s101.shape)\n",
    "print(s201.shape)\n",
    "print(s201.shape)\n",
    "print(lbl00.shape)\n",
    "print(lbl01.shape)"
   ]
  },
  {
   "cell_type": "code",
   "execution_count": 10,
   "id": "943979a1-1f5e-4cbd-99fd-30601ac5b506",
   "metadata": {},
   "outputs": [],
   "source": [
    "# Create patch for training\n",
    "\n",
    "# S100 - S101\n",
    "patches_img00 = patchify(s100, (PATCH_SIZE, PATCH_SIZE, N_BANDS_S1), step=PATCH_SIZE)\n",
    "patches_img01 = patchify(s101, (PATCH_SIZE, PATCH_SIZE, N_BANDS_S1), step=PATCH_SIZE)\n",
    "\n",
    "if not os.path.exists('s1'):\n",
    "    os.makedirs('s1')\n",
    "\n",
    "for i in range(patches_img00.shape[0]):\n",
    "    for j in range(patches_img00.shape[1]):\n",
    "        \n",
    "        single_patch_img = patches_img00[i,j,:,:]\n",
    "        tifffile.imwrite('s1/' + 's100_' + str(i) + '_' + str(j) + \".tif\", single_patch_img)\n",
    "\n",
    "for i in range(patches_img01.shape[0]):\n",
    "    for j in range(patches_img01.shape[1]):\n",
    "        \n",
    "        single_patch_img = patches_img01[i,j,:,:]\n",
    "        tifffile.imwrite('s1/' + 's101_' + str(i) + '_' + str(j) + \".tif\", single_patch_img)\n",
    "\n",
    "# Create patch for validation\n",
    "patches_img00 = patchify(s200, (PATCH_SIZE, PATCH_SIZE, N_BANDS_S2), step=PATCH_SIZE)\n",
    "patches_img01 = patchify(s201, (PATCH_SIZE, PATCH_SIZE, N_BANDS_S2), step=PATCH_SIZE)\n",
    "\n",
    "if not os.path.exists('s2'):\n",
    "    os.makedirs('s2')\n",
    "\n",
    "for i in range(patches_img00.shape[0]):\n",
    "    for j in range(patches_img00.shape[1]):\n",
    "        \n",
    "        single_patch_img = patches_img00[i,j,:,:]\n",
    "        tifffile.imwrite('s2/' + 's200_' + str(i) + '_' + str(j) + \".tif\", single_patch_img)\n",
    "\n",
    "for i in range(patches_img01.shape[0]):\n",
    "    for j in range(patches_img01.shape[1]):\n",
    "        \n",
    "        single_patch_img = patches_img01[i,j,:,:]\n",
    "        tifffile.imwrite('s2/' + 's201_' + str(i) + '_' + str(j) + \".tif\", single_patch_img)\n",
    "\n",
    "# Create patch for validation\n",
    "patches_img00 = patchify(lbl00, (PATCH_SIZE, PATCH_SIZE, N_BANDS_LBL), step=PATCH_SIZE)\n",
    "patches_img01 = patchify(lbl01, (PATCH_SIZE, PATCH_SIZE, N_BANDS_LBL), step=PATCH_SIZE)\n",
    "\n",
    "if not os.path.exists('msk'):\n",
    "    os.makedirs('msk')\n",
    "\n",
    "for i in range(patches_img00.shape[0]):\n",
    "    for j in range(patches_img00.shape[1]):\n",
    "        \n",
    "        single_patch_img = patches_img00[i,j,:,:]\n",
    "        tifffile.imwrite('msk/' + 'msk00_' + str(i) + '_' + str(j) + \".tif\", single_patch_img)\n",
    "\n",
    "for i in range(patches_img01.shape[0]):\n",
    "    for j in range(patches_img01.shape[1]):\n",
    "        \n",
    "        single_patch_img = patches_img01[i,j,:,:]\n",
    "        tifffile.imwrite('msk/' + 'msk01_' + str(i) + '_' + str(j) + \".tif\", single_patch_img)"
   ]
  },
  {
   "cell_type": "code",
   "execution_count": 11,
   "id": "d0040c2f-c7a4-4b59-9dfe-d60ecb3335e5",
   "metadata": {},
   "outputs": [
    {
     "name": "stdout",
     "output_type": "stream",
     "text": [
      "1058\n",
      "1058\n",
      "1058\n"
     ]
    }
   ],
   "source": [
    "# sort and store in numpy format\n",
    "img_patch1 = sorted(glob.glob('s1/*.tif'))\n",
    "img_patch2 = sorted(glob.glob('s2/*.tif'))\n",
    "msk_patch = sorted(glob.glob('msk/*.tif'))\n",
    "\n",
    "print(len(img_patch1))\n",
    "print(len(img_patch2))\n",
    "print(len(msk_patch))"
   ]
  },
  {
   "cell_type": "code",
   "execution_count": 13,
   "id": "1287939a-cf38-4cad-ab5c-b028d0be6cfb",
   "metadata": {},
   "outputs": [],
   "source": [
    "x1 = np.zeros((len(img_patch1), PATCH_SIZE, PATCH_SIZE, N_BANDS_S1))\n",
    "\n",
    "for i, (img1) in enumerate(zip(img_patch1)):\n",
    "    img1 = tifffile.imread(img1)\n",
    "    np_img1 = np.array(img1)\n",
    "    x1[i] = np_img1\n",
    "\n",
    "x2 = np.zeros((len(img_patch2), PATCH_SIZE, PATCH_SIZE, N_BANDS_S2))\n",
    "\n",
    "for i, (img2) in enumerate(zip(img_patch2)):\n",
    "    img2 = tifffile.imread(img2)\n",
    "    np_img2 = np.array(img2)\n",
    "    x2[i] = np_img2\n",
    "    \n",
    "y = np.zeros((len(msk_patch), PATCH_SIZE, PATCH_SIZE, N_BANDS_LBL))\n",
    "\n",
    "for i, (msk) in enumerate(zip(msk_patch)):\n",
    "    msk = tifffile.imread(msk)\n",
    "    np_msk = np.array(msk)\n",
    "    y[i] = np_msk"
   ]
  },
  {
   "cell_type": "code",
   "execution_count": 14,
   "id": "7cec534e-7fc7-4df4-82ba-1f6301deb8a3",
   "metadata": {},
   "outputs": [
    {
     "name": "stdout",
     "output_type": "stream",
     "text": [
      "(1058, 256, 256, 2)\n",
      "(1058, 256, 256, 4)\n",
      "(1058, 256, 256, 1)\n"
     ]
    }
   ],
   "source": [
    "print(x1.shape)\n",
    "print(x2.shape)\n",
    "print(y.shape)"
   ]
  },
  {
   "cell_type": "code",
   "execution_count": 15,
   "id": "c6f4b138-c98a-491b-8d2c-3c9f2c7fe9c2",
   "metadata": {},
   "outputs": [],
   "source": [
    "if not os.path.exists('Data/03_Patch/train'):\n",
    "    os.makedirs('Data/03_Patch/train')\n",
    "\n",
    "np.save('Data/03_Patch/train/x1.npy', x1)\n",
    "np.save('Data/03_Patch/train/x2.npy', x2)\n",
    "np.save('Data/03_Patch/train/y.npy', y)"
   ]
  }
 ],
 "metadata": {
  "kernelspec": {
   "display_name": "Python",
   "language": "python",
   "name": "python3"
  },
  "language_info": {
   "codemirror_mode": {
    "name": "ipython",
    "version": 3
   },
   "file_extension": ".py",
   "mimetype": "text/x-python",
   "name": "python",
   "nbconvert_exporter": "python",
   "pygments_lexer": "ipython3",
   "version": "3.8.10"
  }
 },
 "nbformat": 4,
 "nbformat_minor": 5
}
