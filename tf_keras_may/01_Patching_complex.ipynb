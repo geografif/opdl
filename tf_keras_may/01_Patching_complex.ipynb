{
 "cells": [
  {
   "cell_type": "code",
   "execution_count": 2,
   "id": "6fec2de0-a29e-4e05-a5f4-52270dba338f",
   "metadata": {},
   "outputs": [],
   "source": [
    "import os\n",
    "import numpy as np\n",
    "import glob\n",
    "from matplotlib import pyplot as plt"
   ]
  },
  {
   "cell_type": "code",
   "execution_count": 3,
   "id": "24b92b7d-61ba-47e8-930e-950ce6a1a3db",
   "metadata": {
    "tags": []
   },
   "outputs": [],
   "source": [
    "import rasterio\n",
    "import earthpy.plot as ep\n",
    "from patchify import patchify\n",
    "import tifffile as tifffile\n",
    "import random"
   ]
  },
  {
   "cell_type": "code",
   "execution_count": 4,
   "id": "1a619d0b-c7e1-4cfd-bf81-fe7999aee9bf",
   "metadata": {},
   "outputs": [
    {
     "data": {
      "text/plain": [
       "'/data/private/Thesis/May'"
      ]
     },
     "execution_count": 4,
     "metadata": {},
     "output_type": "execute_result"
    }
   ],
   "source": [
    "os.getcwd()"
   ]
  },
  {
   "cell_type": "markdown",
   "id": "88228015-c286-4c2f-9cae-02a90a265735",
   "metadata": {},
   "source": [
    "**Validation**"
   ]
  },
  {
   "cell_type": "code",
   "execution_count": 5,
   "id": "40f3bfd9-f9cb-4df8-a833-749865c38810",
   "metadata": {
    "tags": []
   },
   "outputs": [
    {
     "name": "stdout",
     "output_type": "stream",
     "text": [
      "c12: complex64\n"
     ]
    }
   ],
   "source": [
    "## Read Sentinel-1 Polarimetric Covariance Matrix (C2): 3 components\n",
    "with rasterio.open(\"Data/02_Tile/c2/c211.tif\") as src:\n",
    "    c11 = src.read(1)\n",
    "    c12_r = src.read(2)\n",
    "    c12_i = src.read(3)\n",
    "    c22 = src.read(4)\n",
    "\n",
    "# Convert c12 component to complex value\n",
    "c12 = c12_r + 1j * c12_i\n",
    "print(\"c12: \" + str(c12.dtype))"
   ]
  },
  {
   "cell_type": "code",
   "execution_count": 7,
   "id": "3e8597ac-f175-4e9a-bbc9-a75f933eb4e8",
   "metadata": {},
   "outputs": [
    {
     "name": "stdout",
     "output_type": "stream",
     "text": [
      "(5903, 6055, 3)\n"
     ]
    }
   ],
   "source": [
    "# Change order of the array, so the n channel is at axis -1\n",
    "s1_img = np.transpose(s1_c, (1,2,0))\n",
    "print(s1_img.shape)"
   ]
  },
  {
   "cell_type": "code",
   "execution_count": 6,
   "id": "02fde49b-7c7a-4678-ae81-0eb81de8d233",
   "metadata": {},
   "outputs": [
    {
     "name": "stdout",
     "output_type": "stream",
     "text": [
      "(3, 5903, 6055)\n"
     ]
    }
   ],
   "source": [
    "# Append 0 as imaginary part of other components to make it complex-like\n",
    "c11 = c11.astype(dtype=np.complex64)\n",
    "c22 = c22.astype(dtype=np.complex64)\n",
    "\n",
    "# Stack arrays\n",
    "s1_c = np.stack((c11, c12, c22))\n",
    "#s1_r = abs(s1_c)\n",
    "#print(s1)\n",
    "print(s1_c.shape)"
   ]
  },
  {
   "cell_type": "code",
   "execution_count": 8,
   "id": "3f694062-8d35-4db1-aaef-187af4042cfd",
   "metadata": {},
   "outputs": [
    {
     "name": "stdout",
     "output_type": "stream",
     "text": [
      "3\n"
     ]
    }
   ],
   "source": [
    "# Define parameter\n",
    "patch_size = 256\n",
    "n_bands = s1_img.shape[-1]\n",
    "print(n_bands)"
   ]
  },
  {
   "cell_type": "code",
   "execution_count": null,
   "id": "bba1905d-335b-4f08-a0c2-b2421481c3b0",
   "metadata": {},
   "outputs": [],
   "source": [
    "# Create patches for image\n",
    "\n",
    "if not os.path.exists('val_c2'):\n",
    "    os.makedirs('val_c2')\n",
    "\n",
    "patches_img = patchify(s1_img, (patch_size, patch_size, n_bands), step=patch_size) #xdim, ydim, nband, step=xdim = no overlap\n",
    "    \n",
    "for i in range(patches_img.shape[0]):\n",
    "    for j in range(patches_img.shape[1]):\n",
    "        \n",
    "        single_patch_img = patches_img[i,j,:,:]\n",
    "        tifffile.imwrite('val_c2/' + 'patch_' + str(i) + '_' + str(j) + \".tif\", single_patch_img) #str(img) if u have more than 1 source image to loop"
   ]
  },
  {
   "cell_type": "code",
   "execution_count": 11,
   "id": "09116c1e-aaae-4cda-9658-3e662361ed6b",
   "metadata": {},
   "outputs": [
    {
     "name": "stdout",
     "output_type": "stream",
     "text": [
      "529\n"
     ]
    }
   ],
   "source": [
    "image_patches = sorted(glob.glob('val_c2/*.tif'))\n",
    "print(len(image_patches))"
   ]
  },
  {
   "cell_type": "code",
   "execution_count": 12,
   "id": "a497c046-b763-49ca-babd-56629e766b2a",
   "metadata": {},
   "outputs": [],
   "source": [
    "x = np.zeros((len(image_patches), patch_size, patch_size, n_bands), dtype='complex64') #NBANDS\n",
    "for i, (img) in enumerate(zip(image_patches)):\n",
    "    img = tifffile.imread(img)\n",
    "    np_img = np.array(img)\n",
    "    x[i] = np_img"
   ]
  },
  {
   "cell_type": "code",
   "execution_count": 13,
   "id": "cbe0781e-aadb-448d-83f9-c8ecd27d6d94",
   "metadata": {},
   "outputs": [],
   "source": [
    "np.save('Data/03_Patch/val/xc.npy', x)"
   ]
  },
  {
   "cell_type": "markdown",
   "id": "f07add03-25d0-4871-aba3-d23039593984",
   "metadata": {},
   "source": [
    "**Training**"
   ]
  },
  {
   "cell_type": "code",
   "execution_count": 14,
   "id": "48a48221-018a-476e-9d59-076c6b037dfb",
   "metadata": {
    "tags": []
   },
   "outputs": [
    {
     "name": "stdout",
     "output_type": "stream",
     "text": [
      "c12: complex64\n",
      "(3, 5903, 6055)\n"
     ]
    }
   ],
   "source": [
    "## Read Sentinel-1 Polarimetric Covariance Matrix (C2): 3 components\n",
    "with rasterio.open(\"Data/02_Tile/c2/c200.tif\") as src:\n",
    "    c11 = src.read(1)\n",
    "    c12_r = src.read(2)\n",
    "    c12_i = src.read(3)\n",
    "    c22 = src.read(4)\n",
    "\n",
    "# Convert c12 component to complex value\n",
    "c12 = c12_r + 1j * c12_i\n",
    "print(\"c12: \" + str(c12.dtype))\n",
    "\n",
    "# Append 0 as imaginary part of other components to make it complex-like\n",
    "c11 = c11.astype(dtype=np.complex64)\n",
    "c22 = c22.astype(dtype=np.complex64)\n",
    "\n",
    "# Stack arrays\n",
    "s1_c_1 = np.stack((c11, c12, c22))\n",
    "#s1_r = abs(s1_c)\n",
    "#print(s1)\n",
    "print(s1_c_1.shape)"
   ]
  },
  {
   "cell_type": "code",
   "execution_count": 15,
   "id": "9abb6d72-1be8-41bd-9af8-c3b6e0351035",
   "metadata": {
    "tags": []
   },
   "outputs": [
    {
     "name": "stdout",
     "output_type": "stream",
     "text": [
      "c12: complex64\n",
      "(3, 5903, 6055)\n"
     ]
    }
   ],
   "source": [
    "## Read Sentinel-1 Polarimetric Covariance Matrix (C2): 3 components\n",
    "with rasterio.open(\"Data/02_Tile/c2/c201.tif\") as src:\n",
    "    c11 = src.read(1)\n",
    "    c12_r = src.read(2)\n",
    "    c12_i = src.read(3)\n",
    "    c22 = src.read(4)\n",
    "\n",
    "# Convert c12 component to complex value\n",
    "c12 = c12_r + 1j * c12_i\n",
    "print(\"c12: \" + str(c12.dtype))\n",
    "\n",
    "# Append 0 as imaginary part of other components to make it complex-like\n",
    "c11 = c11.astype(dtype=np.complex64)\n",
    "c22 = c22.astype(dtype=np.complex64)\n",
    "\n",
    "# Stack arrays\n",
    "s1_c_2 = np.stack((c11, c12, c22))\n",
    "#s1_r = abs(s1_c)\n",
    "#print(s1)\n",
    "print(s1_c_2.shape)"
   ]
  },
  {
   "cell_type": "code",
   "execution_count": 16,
   "id": "ee262aa1-3c25-4efd-ad4e-7436c01ad549",
   "metadata": {},
   "outputs": [
    {
     "name": "stdout",
     "output_type": "stream",
     "text": [
      "(5903, 6055, 3)\n",
      "(5903, 6055, 3)\n"
     ]
    }
   ],
   "source": [
    "# Change order of the array, so the n channel is at axis -1\n",
    "s1_img_1 = np.transpose(s1_c_1, (1,2,0))\n",
    "s1_img_2 = np.transpose(s1_c_2, (1,2,0))\n",
    "print(s1_img_1.shape)\n",
    "print(s1_img_2.shape)"
   ]
  },
  {
   "cell_type": "code",
   "execution_count": 17,
   "id": "fb8e2803-c7ce-46f2-8ae6-0b9d62219283",
   "metadata": {},
   "outputs": [],
   "source": [
    "# Create patches for image\n",
    "\n",
    "if not os.path.exists('Patch'):\n",
    "    os.makedirs('Patch')\n",
    "\n",
    "patches_img = patchify(s1_img_1, (patch_size, patch_size, n_bands), step=patch_size) #xdim, ydim, nband, step=xdim = no overlap\n",
    "    \n",
    "for i in range(patches_img.shape[0]):\n",
    "    for j in range(patches_img.shape[1]):\n",
    "        \n",
    "        single_patch_img = patches_img[i,j,:,:]\n",
    "        tifffile.imwrite('Patch/' + 'patchs00_' + str(i) + '_' + str(j) + \".tif\", single_patch_img) #str(img) if u have more than 1 source image to loop\n",
    "\n",
    "# Create patches for image\n",
    "\n",
    "if not os.path.exists('Patch'):\n",
    "    os.makedirs('Patch')\n",
    "\n",
    "patches_img = patchify(s1_img_2, (patch_size, patch_size, n_bands), step=patch_size) #xdim, ydim, nband, step=xdim = no overlap\n",
    "    \n",
    "for i in range(patches_img.shape[0]):\n",
    "    for j in range(patches_img.shape[1]):\n",
    "        \n",
    "        single_patch_img = patches_img[i,j,:,:]\n",
    "        tifffile.imwrite('Patch/' + 'patchs01_' + str(i) + '_' + str(j) + \".tif\", single_patch_img) #str(img) if u have more than 1 source image to loop"
   ]
  },
  {
   "cell_type": "markdown",
   "id": "de4feb49-469f-4d00-9325-753d769a79ee",
   "metadata": {
    "tags": []
   },
   "source": [
    "### Save image tiles to numpy format (useless as georeference loss)"
   ]
  },
  {
   "cell_type": "code",
   "execution_count": 18,
   "id": "5f37c98e-5e93-4411-86d2-9e87cc7ca0f1",
   "metadata": {},
   "outputs": [
    {
     "name": "stdout",
     "output_type": "stream",
     "text": [
      "1058\n"
     ]
    }
   ],
   "source": [
    "image_patches = sorted(glob.glob('Patch/*.tif'))\n",
    "print(len(image_patches))"
   ]
  },
  {
   "cell_type": "code",
   "execution_count": 19,
   "id": "01ec414c-f395-4729-9d80-6ef9810f1eed",
   "metadata": {
    "tags": []
   },
   "outputs": [],
   "source": [
    "x = np.zeros((len(image_patches), patch_size, patch_size, n_bands), dtype='complex64') #NBANDS\n",
    "for i, (img) in enumerate(zip(image_patches)):\n",
    "    img = tifffile.imread(img)\n",
    "    np_img = np.array(img)\n",
    "    x[i] = np_img"
   ]
  },
  {
   "cell_type": "code",
   "execution_count": 20,
   "id": "5395d12a-640e-46e0-9c60-5105404bc06c",
   "metadata": {},
   "outputs": [],
   "source": [
    "#if not os.path.exists('Data/Patch_np'):\n",
    "#    os.makedirs('Data/Patch_np')\n",
    "\n",
    "#np.save('Data/02_Patches/Test/x1.npy', x)\n",
    "#np.save('Data/02_Patches/Test/yb.npy', y)\n",
    "#np.save('Data/03_Patch/train/xc_.npy', x)\n",
    "np.save('Data/03_Patch/train/xc.npy', x)\n",
    "#np.save('Data/y_compl.npy', y)"
   ]
  }
 ],
 "metadata": {
  "kernelspec": {
   "display_name": "Python",
   "language": "python",
   "name": "python3"
  },
  "language_info": {
   "codemirror_mode": {
    "name": "ipython",
    "version": 3
   },
   "file_extension": ".py",
   "mimetype": "text/x-python",
   "name": "python",
   "nbconvert_exporter": "python",
   "pygments_lexer": "ipython3",
   "version": "3.8.10"
  }
 },
 "nbformat": 4,
 "nbformat_minor": 5
}
