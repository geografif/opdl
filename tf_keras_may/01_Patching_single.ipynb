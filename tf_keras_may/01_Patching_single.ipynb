{
 "cells": [
  {
   "cell_type": "code",
   "execution_count": 1,
   "id": "e4c92e2e-67f6-4d3d-a32f-c1c28f868e8c",
   "metadata": {},
   "outputs": [],
   "source": [
    "import os\n",
    "import numpy as np\n",
    "import glob\n",
    "from matplotlib import pyplot as plt"
   ]
  },
  {
   "cell_type": "code",
   "execution_count": 2,
   "id": "fce428f7-facf-40c3-95a6-0c2e00d41cb9",
   "metadata": {},
   "outputs": [],
   "source": [
    "import rasterio\n",
    "import earthpy.plot as ep\n",
    "from patchify import patchify\n",
    "import tifffile as tifffile\n",
    "import random"
   ]
  },
  {
   "cell_type": "code",
   "execution_count": 3,
   "id": "6992de8a-5538-425e-8dac-5714ca91dcf2",
   "metadata": {},
   "outputs": [
    {
     "data": {
      "text/plain": [
       "'/data/private/Thesis/May'"
      ]
     },
     "execution_count": 3,
     "metadata": {},
     "output_type": "execute_result"
    }
   ],
   "source": [
    "# check working directory\n",
    "os.getcwd()"
   ]
  },
  {
   "cell_type": "markdown",
   "id": "410b7c82-74d4-40d3-a19a-b4576c10461e",
   "metadata": {},
   "source": [
    "### **Patching Single Datasets**"
   ]
  },
  {
   "cell_type": "code",
   "execution_count": 4,
   "id": "08135543-b200-4d3a-a48f-ae8c13ace0be",
   "metadata": {},
   "outputs": [
    {
     "name": "stdout",
     "output_type": "stream",
     "text": [
      "(1, 5903, 6055)\n"
     ]
    }
   ],
   "source": [
    "# read val image\n",
    "\n",
    "with rasterio.open(\"Data/02_Tile/label_bin_gaveau/label_bin_gaveau11.tif\") as src:\n",
    "    lbl = src.read()\n",
    "\n",
    "print(lbl.shape)"
   ]
  },
  {
   "cell_type": "code",
   "execution_count": 5,
   "id": "e2ea664b-3550-4b5e-8192-8fa356a4f6f5",
   "metadata": {},
   "outputs": [],
   "source": [
    "lbl = np.transpose(lbl, (1,2,0))"
   ]
  },
  {
   "cell_type": "code",
   "execution_count": 6,
   "id": "c3a0661a-07c4-471a-8e01-19cf6f202415",
   "metadata": {},
   "outputs": [
    {
     "name": "stdout",
     "output_type": "stream",
     "text": [
      "1\n"
     ]
    }
   ],
   "source": [
    "PATCH_SIZE = 256\n",
    "N_BANDS_LBL = lbl.shape[-1]\n",
    "\n",
    "print(N_BANDS_LBL)"
   ]
  },
  {
   "cell_type": "code",
   "execution_count": 7,
   "id": "a273981b-8da1-4b1a-aea6-cb0ee7930722",
   "metadata": {},
   "outputs": [],
   "source": [
    "patches_msk = patchify(lbl, (PATCH_SIZE, PATCH_SIZE, N_BANDS_LBL), step=PATCH_SIZE)\n",
    "\n",
    "if not os.path.exists('Valmsk'):\n",
    "    os.makedirs('Valmsk')\n",
    "\n",
    "for i in range(patches_msk.shape[0]):\n",
    "    for j in range(patches_msk.shape[1]):\n",
    "        \n",
    "        single_patch_msk = patches_msk[i,j,:,:]\n",
    "        tifffile.imwrite('Valmsk/' + 'valmsk_' + str(i) + '_' + str(j) + \".tif\", single_patch_msk)"
   ]
  },
  {
   "cell_type": "code",
   "execution_count": 8,
   "id": "63d20ec5-15c0-42b9-bc2a-aea3a98bdf9b",
   "metadata": {},
   "outputs": [
    {
     "name": "stdout",
     "output_type": "stream",
     "text": [
      "529\n"
     ]
    }
   ],
   "source": [
    "msk_patch = sorted(glob.glob('Valmsk/*.tif'))\n",
    "\n",
    "print(len(msk_patch))"
   ]
  },
  {
   "cell_type": "code",
   "execution_count": 9,
   "id": "3e99e3eb-23cd-43e9-974d-87ea642c1fc2",
   "metadata": {},
   "outputs": [],
   "source": [
    "y = np.zeros((len(msk_patch), PATCH_SIZE, PATCH_SIZE, N_BANDS_LBL))\n",
    "\n",
    "for i, (msk) in enumerate(zip(msk_patch)):\n",
    "    msk = tifffile.imread(msk)\n",
    "    np_msk = np.array(msk)\n",
    "    y[i] = np_msk"
   ]
  },
  {
   "cell_type": "code",
   "execution_count": 10,
   "id": "ddf028e3-53c9-4dc5-8386-587b8c4d47e6",
   "metadata": {},
   "outputs": [
    {
     "name": "stdout",
     "output_type": "stream",
     "text": [
      "(529, 256, 256, 1)\n"
     ]
    }
   ],
   "source": [
    "print(y.shape)"
   ]
  },
  {
   "cell_type": "code",
   "execution_count": 11,
   "id": "d0310d9a-3ef0-4bea-8446-bba1667838db",
   "metadata": {},
   "outputs": [],
   "source": [
    "if not os.path.exists('Data/03_Patch/val'):\n",
    "    os.makedirs('Data/03_Patch/val')\n",
    "\n",
    "np.save('Data/03_Patch/val/ygaveau.npy', y)"
   ]
  }
 ],
 "metadata": {
  "kernelspec": {
   "display_name": "Python",
   "language": "python",
   "name": "python3"
  },
  "language_info": {
   "codemirror_mode": {
    "name": "ipython",
    "version": 3
   },
   "file_extension": ".py",
   "mimetype": "text/x-python",
   "name": "python",
   "nbconvert_exporter": "python",
   "pygments_lexer": "ipython3",
   "version": "3.8.10"
  }
 },
 "nbformat": 4,
 "nbformat_minor": 5
}
