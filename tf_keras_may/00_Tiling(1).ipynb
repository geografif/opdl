{
 "cells": [
  {
   "cell_type": "markdown",
   "id": "535bc8f0-04af-4f36-9d10-10d58e68fc0b",
   "metadata": {
    "tags": []
   },
   "source": [
    "## Read and Write"
   ]
  },
  {
   "cell_type": "code",
   "execution_count": 1,
   "id": "5b94371b-3ad1-4f09-8cb5-eaf073c5215e",
   "metadata": {},
   "outputs": [],
   "source": [
    "from osgeo import gdal\n",
    "import numpy as np\n",
    "import matplotlib.pyplot as plt"
   ]
  },
  {
   "cell_type": "code",
   "execution_count": 2,
   "id": "2f719830-659f-465d-a8ad-84dc8bde7a51",
   "metadata": {},
   "outputs": [
    {
     "data": {
      "text/plain": [
       "'/data/private/Thesis/May'"
      ]
     },
     "execution_count": 2,
     "metadata": {},
     "output_type": "execute_result"
    }
   ],
   "source": [
    "import os\n",
    "os.getcwd()"
   ]
  },
  {
   "cell_type": "code",
   "execution_count": 13,
   "id": "b4208393-6194-471d-851c-ca6931368702",
   "metadata": {},
   "outputs": [],
   "source": [
    "ds = gdal.Open(\"Data/01_Preprocessed/label_bin_gaveau.tif\")"
   ]
  },
  {
   "cell_type": "code",
   "execution_count": 14,
   "id": "0faba94c-7fe3-4dfe-9477-6d43e658e211",
   "metadata": {},
   "outputs": [
    {
     "name": "stdout",
     "output_type": "stream",
     "text": [
      "(622290.0, 10.0, 0.0, 213240.0, 0.0, -10.0)\n"
     ]
    }
   ],
   "source": [
    "gt = ds.GetGeoTransform()\n",
    "print(gt)"
   ]
  },
  {
   "cell_type": "code",
   "execution_count": 15,
   "id": "366de168-2f08-4bb3-aaff-8a81095f388f",
   "metadata": {
    "tags": []
   },
   "outputs": [
    {
     "name": "stdout",
     "output_type": "stream",
     "text": [
      "PROJCS[\"WGS 84 / UTM zone 47N\",GEOGCS[\"WGS 84\",DATUM[\"WGS_1984\",SPHEROID[\"WGS 84\",6378137,298.257223563,AUTHORITY[\"EPSG\",\"7030\"]],AUTHORITY[\"EPSG\",\"6326\"]],PRIMEM[\"Greenwich\",0,AUTHORITY[\"EPSG\",\"8901\"]],UNIT[\"degree\",0.0174532925199433,AUTHORITY[\"EPSG\",\"9122\"]],AUTHORITY[\"EPSG\",\"4326\"]],PROJECTION[\"Transverse_Mercator\"],PARAMETER[\"latitude_of_origin\",0],PARAMETER[\"central_meridian\",99],PARAMETER[\"scale_factor\",0.9996],PARAMETER[\"false_easting\",500000],PARAMETER[\"false_northing\",0],UNIT[\"metre\",1,AUTHORITY[\"EPSG\",\"9001\"]],AXIS[\"Easting\",EAST],AXIS[\"Northing\",NORTH],AUTHORITY[\"EPSG\",\"32647\"]]\n"
     ]
    }
   ],
   "source": [
    "proj = ds.GetProjection()\n",
    "print(proj)"
   ]
  },
  {
   "cell_type": "code",
   "execution_count": 17,
   "id": "2124a0ea-9bd3-4435-ab8f-4b68ca54e981",
   "metadata": {},
   "outputs": [
    {
     "name": "stdout",
     "output_type": "stream",
     "text": [
      "1\n"
     ]
    }
   ],
   "source": [
    "nband = ds.RasterCount\n",
    "print(nband)\n",
    "bandvv = ds.GetRasterBand(1)"
   ]
  },
  {
   "cell_type": "markdown",
   "id": "1b037819-c5c4-4db6-9247-c68a420f725c",
   "metadata": {},
   "source": [
    "## Split raster into equally-size pieces"
   ]
  },
  {
   "cell_type": "code",
   "execution_count": 18,
   "id": "e3d69406-6ae0-4ac7-af12-5e764c08f3c2",
   "metadata": {},
   "outputs": [
    {
     "name": "stdout",
     "output_type": "stream",
     "text": [
      "(622290.0, 10.0, 0.0, 213240.0, 0.0, -10.0)\n"
     ]
    }
   ],
   "source": [
    "gt = ds.GetGeoTransform()\n",
    "print(gt)"
   ]
  },
  {
   "cell_type": "code",
   "execution_count": 19,
   "id": "b424ebed-d539-4687-bc2b-3bc148556f4e",
   "metadata": {},
   "outputs": [
    {
     "name": "stdout",
     "output_type": "stream",
     "text": [
      "181650.0\n"
     ]
    }
   ],
   "source": [
    "xmin = gt[0]\n",
    "ymax = gt[3]\n",
    "res = gt[1]\n",
    "xlen = res * ds.RasterXSize\n",
    "ylen = res * ds.RasterYSize\n",
    "print(xlen)"
   ]
  },
  {
   "cell_type": "code",
   "execution_count": 20,
   "id": "e405f43e-6260-49f2-8828-a738c1fef4b9",
   "metadata": {},
   "outputs": [],
   "source": [
    "xdiv = 3\n",
    "ydiv = 2\n",
    "\n",
    "xsize = xlen/xdiv\n",
    "ysize = ylen/ydiv"
   ]
  },
  {
   "cell_type": "code",
   "execution_count": 21,
   "id": "326031cd-f6d0-4384-9cb9-67aac5c028ac",
   "metadata": {},
   "outputs": [],
   "source": [
    "xsteps = [xmin + xsize * i for i in range(xdiv+1)]\n",
    "ysteps = [ymax - ysize * i for i in range(ydiv+1)]"
   ]
  },
  {
   "cell_type": "code",
   "execution_count": 22,
   "id": "39476cf1-f909-481e-b977-9171e2fba21a",
   "metadata": {},
   "outputs": [
    {
     "name": "stdout",
     "output_type": "stream",
     "text": [
      "xmin: 622290.0\n",
      "xmax: 682840.0\n",
      "ymin: 154210.0\n",
      "ymax: 213240.0\n",
      "\n",
      "\n",
      "xmin: 622290.0\n",
      "xmax: 682840.0\n",
      "ymin: 95180.0\n",
      "ymax: 154210.0\n",
      "\n",
      "\n",
      "xmin: 682840.0\n",
      "xmax: 743390.0\n",
      "ymin: 154210.0\n",
      "ymax: 213240.0\n",
      "\n",
      "\n",
      "xmin: 682840.0\n",
      "xmax: 743390.0\n",
      "ymin: 95180.0\n",
      "ymax: 154210.0\n",
      "\n",
      "\n",
      "xmin: 743390.0\n",
      "xmax: 803940.0\n",
      "ymin: 154210.0\n",
      "ymax: 213240.0\n",
      "\n",
      "\n",
      "xmin: 743390.0\n",
      "xmax: 803940.0\n",
      "ymin: 95180.0\n",
      "ymax: 154210.0\n",
      "\n",
      "\n"
     ]
    }
   ],
   "source": [
    "for i in range(xdiv):\n",
    "    for j in range(ydiv):\n",
    "        xmin = xsteps[i]\n",
    "        xmax = xsteps[i+1]\n",
    "        ymax = ysteps[j]\n",
    "        ymin = ysteps[j+1]\n",
    "        \n",
    "        print(\"xmin: \"+str(xmin))\n",
    "        print(\"xmax: \"+str(xmax))\n",
    "        print(\"ymin: \"+str(ymin))\n",
    "        print(\"ymax: \"+str(ymax))\n",
    "        print(\"\\n\")\n",
    "        \n",
    "        gdal.Warp(\"Data/02_Tile/label_bin_gaveau/label_bin_gaveau\"+str(i)+str(j)+\".tif\", ds, xRes=res, yRes=-res,\n",
    "                  outputBounds=(xmin,ymin,xmax,ymax), dstNodata=-9999)"
   ]
  },
  {
   "cell_type": "code",
   "execution_count": null,
   "id": "821d5ea9-7552-4aaa-a678-be9d4774e35c",
   "metadata": {},
   "outputs": [],
   "source": [
    "#close the open dataset\n",
    "ds = None"
   ]
  },
  {
   "cell_type": "code",
   "execution_count": 25,
   "id": "f73bfb28-1c26-4657-86f4-63e864b3b6d3",
   "metadata": {},
   "outputs": [
    {
     "name": "stdout",
     "output_type": "stream",
     "text": [
      "01_Exploration.ipynb  \u001b[0m\u001b[01;34mData\u001b[0m/  Raster_gdal.ipynb  \u001b[01;34mTrial\u001b[0m/\n"
     ]
    }
   ],
   "source": [
    "ls"
   ]
  }
 ],
 "metadata": {
  "kernelspec": {
   "display_name": "Python",
   "language": "python",
   "name": "python3"
  },
  "language_info": {
   "codemirror_mode": {
    "name": "ipython",
    "version": 3
   },
   "file_extension": ".py",
   "mimetype": "text/x-python",
   "name": "python",
   "nbconvert_exporter": "python",
   "pygments_lexer": "ipython3",
   "version": "3.8.10"
  }
 },
 "nbformat": 4,
 "nbformat_minor": 5
}
